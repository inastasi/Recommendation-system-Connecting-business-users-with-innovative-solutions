{
 "cells": [
  {
   "cell_type": "code",
   "execution_count": 1,
   "metadata": {},
   "outputs": [],
   "source": [
    "import pandas as pd\n",
    "#Plot\n",
    "import seaborn as sns\n",
    "import matplotlib.pyplot as plt"
   ]
  },
  {
   "cell_type": "code",
   "execution_count": 12,
   "metadata": {},
   "outputs": [],
   "source": [
    "def make_density(df,color, x_axis_text, y_axis_text, bins, x, y=None, kde=True, show_mean=False, show_other=False):\n",
    "    \n",
    "    sns.set_context(rc = {'edgecolor':color})\n",
    "    # Draw the histogram and fit a density plot.\n",
    "    ax = sns.histplot(df,x=x, bins=bins, kde=kde,\n",
    "                      line_kws={'linewidth': 2}, color=color)\n",
    "    if show_mean:\n",
    "        # compute mode of the histogram.\n",
    "        mean_x = df[x].mean()\n",
    "\n",
    "        # draw a vertical line at the mode of the histogram.\n",
    "        ax.axvline(mean_x, color='orange', linestyle='dashed', linewidth=1.5)\n",
    "        ax.text(mean_x+0.1*mean_x, ax.get_ylim()[1]/2, '$\\mu = {}$'.format(round(mean_x,2)))\n",
    "    if show_other:\n",
    "        std_x = df[x].std()\n",
    "        min_x = df[x].min()\n",
    "        max_x = df[x].max()\n",
    "        # title\n",
    "        ax.set_title('$\\sigma = {}$ | $min = {}$ | $max = {}$'.format(round(std_x, 2),round(min_x,2),round(max_x,2)))\n",
    "    # Plot formatting\n",
    "    ax.set_xlabel(x_axis_text)\n",
    "    ax.set_ylabel(y_axis_text)\n",
    "    return ax"
   ]
  },
  {
   "cell_type": "code",
   "execution_count": 2,
   "metadata": {},
   "outputs": [],
   "source": [
    "eval_res = pd.read_csv('D:\\\\Various documents\\\\Masters\\\\Subjects\\\\Thesis\\\\Evaluation\\\\Evaluation_summary.csv')"
   ]
  },
  {
   "cell_type": "code",
   "execution_count": 14,
   "metadata": {},
   "outputs": [
    {
     "data": {
      "text/html": [
       "<div>\n",
       "<style scoped>\n",
       "    .dataframe tbody tr th:only-of-type {\n",
       "        vertical-align: middle;\n",
       "    }\n",
       "\n",
       "    .dataframe tbody tr th {\n",
       "        vertical-align: top;\n",
       "    }\n",
       "\n",
       "    .dataframe thead th {\n",
       "        text-align: right;\n",
       "    }\n",
       "</style>\n",
       "<table border=\"1\" class=\"dataframe\">\n",
       "  <thead>\n",
       "    <tr style=\"text-align: right;\">\n",
       "      <th></th>\n",
       "      <th>Index</th>\n",
       "      <th>Project _id</th>\n",
       "      <th>Model</th>\n",
       "      <th>Recommendation_1</th>\n",
       "      <th>Recommendation_2</th>\n",
       "      <th>Recommendation_3</th>\n",
       "      <th>Recommendation_4</th>\n",
       "      <th>Recommendation_5</th>\n",
       "      <th>Correct</th>\n",
       "    </tr>\n",
       "  </thead>\n",
       "  <tbody>\n",
       "    <tr>\n",
       "      <th>0</th>\n",
       "      <td>720</td>\n",
       "      <td>SOL-28309</td>\n",
       "      <td>Model III</td>\n",
       "      <td>0</td>\n",
       "      <td>0</td>\n",
       "      <td>0</td>\n",
       "      <td>0</td>\n",
       "      <td>0</td>\n",
       "      <td>0</td>\n",
       "    </tr>\n",
       "    <tr>\n",
       "      <th>1</th>\n",
       "      <td>411</td>\n",
       "      <td>SOL-144622</td>\n",
       "      <td>Model III</td>\n",
       "      <td>0</td>\n",
       "      <td>0</td>\n",
       "      <td>0</td>\n",
       "      <td>0</td>\n",
       "      <td>0</td>\n",
       "      <td>0</td>\n",
       "    </tr>\n",
       "    <tr>\n",
       "      <th>2</th>\n",
       "      <td>2242</td>\n",
       "      <td>SOL-144694</td>\n",
       "      <td>Model III</td>\n",
       "      <td>0</td>\n",
       "      <td>0</td>\n",
       "      <td>0</td>\n",
       "      <td>0</td>\n",
       "      <td>0</td>\n",
       "      <td>0</td>\n",
       "    </tr>\n",
       "    <tr>\n",
       "      <th>3</th>\n",
       "      <td>2798</td>\n",
       "      <td>SOL-63103</td>\n",
       "      <td>Model III</td>\n",
       "      <td>0</td>\n",
       "      <td>0</td>\n",
       "      <td>1</td>\n",
       "      <td>1</td>\n",
       "      <td>1</td>\n",
       "      <td>3</td>\n",
       "    </tr>\n",
       "    <tr>\n",
       "      <th>4</th>\n",
       "      <td>3151</td>\n",
       "      <td>SOL-27234</td>\n",
       "      <td>Model III</td>\n",
       "      <td>0</td>\n",
       "      <td>1</td>\n",
       "      <td>0</td>\n",
       "      <td>0</td>\n",
       "      <td>1</td>\n",
       "      <td>2</td>\n",
       "    </tr>\n",
       "  </tbody>\n",
       "</table>\n",
       "</div>"
      ],
      "text/plain": [
       "   Index Project _id      Model  Recommendation_1  Recommendation_2  \\\n",
       "0    720   SOL-28309  Model III                 0                 0   \n",
       "1    411  SOL-144622  Model III                 0                 0   \n",
       "2   2242  SOL-144694  Model III                 0                 0   \n",
       "3   2798   SOL-63103  Model III                 0                 0   \n",
       "4   3151   SOL-27234  Model III                 0                 1   \n",
       "\n",
       "   Recommendation_3  Recommendation_4  Recommendation_5  Correct  \n",
       "0                 0                 0                 0        0  \n",
       "1                 0                 0                 0        0  \n",
       "2                 0                 0                 0        0  \n",
       "3                 1                 1                 1        3  \n",
       "4                 0                 0                 1        2  "
      ]
     },
     "execution_count": 14,
     "metadata": {},
     "output_type": "execute_result"
    }
   ],
   "source": [
    "eval_res.head()"
   ]
  },
  {
   "cell_type": "code",
   "execution_count": 23,
   "metadata": {},
   "outputs": [
    {
     "data": {
      "image/png": "[encoded data removed]",
      "text/plain": [
       "<Figure size 400x240 with 1 Axes>"
      ]
     },
     "metadata": {
      "needs_background": "light"
     },
     "output_type": "display_data"
    }
   ],
   "source": [
    "fig = plt.figure(figsize=(5,3),dpi=80)\n",
    "ax = sns.boxplot(y=eval_res['Correct'], x=eval_res['Model'], order = [\"Model I\", \"Model II\", \"Model III\"], palette = \"Blues\",\n",
    "                 showmeans=True,\n",
    "                 meanprops={\"marker\":\"o\",\n",
    "                       \"markerfacecolor\":\"orange\", \n",
    "                       \"markeredgecolor\":\"orange\",\n",
    "                      \"markersize\":\"4\"})\n",
    "ax.set_ylabel(\"\")\n",
    "ax.set_xlabel(\"\")\n",
    "\n",
    "plt.xticks(rotation=0, ha='right',fontsize=10)\n",
    "fig.savefig(\"D:\\\\Various documents\\\\Masters\\\\Subjects\\\\Thesis\\\\Evaluation\\\\boxplot_models.png\")"
   ]
  },
  {
   "cell_type": "code",
   "execution_count": 49,
   "metadata": {},
   "outputs": [
    {
     "data": {
      "image/png": "[encoded data removed]",
      "text/plain": [
       "<Figure size 960x400 with 1 Axes>"
      ]
     },
     "metadata": {
      "needs_background": "light"
     },
     "output_type": "display_data"
    }
   ],
   "source": [
    "fig = plt.figure(figsize=(12,5),dpi=80)\n",
    "#sns.color_palette(\"mako\", as_cmap=True)\n",
    "df = (eval_res.groupby(['Model','Correct'])['Index'].count().reset_index()).rename(columns={'Index':'count'})\n",
    "ax = sns.barplot(x = \"Model\", y='count', hue =\"Correct\", data = df, palette=\"Blues\") #hue = \"Model\"  order = [\"Model I\", \"Model II\", \"Model III\"],\n",
    "\n",
    "ax.set_xlabel(\"\")\n",
    "ax.set_ylabel(\"# Ocurances\")\n",
    "plt.legend(loc='upper right', title=\"# Correct recommendations\")\n",
    "fig.savefig(\"D:\\\\Various documents\\\\Masters\\\\Subjects\\\\Thesis\\\\Evaluation\\\\bar_models.png\")"
   ]
  },
  {
   "cell_type": "code",
   "execution_count": 25,
   "metadata": {},
   "outputs": [
    {
     "data": {
      "image/png": "[encoded data removed]",
      "text/plain": [
       "<Figure size 640x400 with 1 Axes>"
      ]
     },
     "metadata": {
      "needs_background": "light"
     },
     "output_type": "display_data"
    }
   ],
   "source": [
    "# Distribution of number of words per Employee\n",
    "plt.figure(figsize=(8,5), dpi= 80)\n",
    "ax = make_density(df=eval_res[eval_res['Model']=='Model II'], color='#1f77b4',x_axis_text='# Correct recommendations ', y_axis_text='# Project Proposals', bins=5, \n",
    "             x='Correct', y=None, kde=True, show_mean=True, show_other=True)\n",
    "#plt.xlim(0,1000)\n",
    "plt.show()\n",
    "fig = ax.get_figure()"
   ]
  },
  {
   "cell_type": "code",
   "execution_count": null,
   "metadata": {},
   "outputs": [],
   "source": []
  }
 ],
 "metadata": {
  "kernelspec": {
   "display_name": "Python 3",
   "language": "python",
   "name": "python3"
  },
  "language_info": {
   "codemirror_mode": {
    "name": "ipython",
    "version": 3
   },
   "file_extension": ".py",
   "mimetype": "text/x-python",
   "name": "python",
   "nbconvert_exporter": "python",
   "pygments_lexer": "ipython3",
   "version": "3.8.5"
  }
 },
 "nbformat": 4,
 "nbformat_minor": 4
}
